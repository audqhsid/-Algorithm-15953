{
 "cells": [
  {
   "cell_type": "code",
   "execution_count": 8,
   "metadata": {},
   "outputs": [],
   "source": [
    "def awards_2017(a):\n",
    "    if a == 1:\n",
    "        reward_2017 = 5000000\n",
    "    elif a == 2 and a == 3:\n",
    "        reward_2017 = 3000000\n",
    "    elif a >= 4 and a < 7:\n",
    "        reward_2017 = 2000000\n",
    "    elif a >= 7 and a < 11:\n",
    "        reward_2017 = 500000\n",
    "    elif a >= 11 and a < 16:\n",
    "        reward_2017 = 300000\n",
    "    elif a >= 16 and a < 22:\n",
    "        reward_2017 = 100000\n",
    "    else:\n",
    "        reward_2017 = 0\n",
    "    return reward_2017"
   ]
  },
  {
   "cell_type": "code",
   "execution_count": 9,
   "metadata": {},
   "outputs": [],
   "source": [
    "def awards_2018(b):\n",
    "    if b == 1:\n",
    "        reward_2018 = 2**9 * 10000\n",
    "    elif b >= 2 and b < 2**2:\n",
    "        reward_2018 = 2**8 * 10000\n",
    "    elif b >= 2**2 and b < 2**3:\n",
    "        reward_2018 = 2**7 * 10000\n",
    "    elif b >= 2**3 and b < 2**4:\n",
    "        reward_2018 = 2**6 * 10000\n",
    "    elif b >= 2**4 and b < 2**5:\n",
    "        reward_2018 = 2**5 * 10000\n",
    "    else:\n",
    "        reward_2018 = 0\n",
    "    return reward_2018"
   ]
  },
  {
   "cell_type": "code",
   "execution_count": 13,
   "metadata": {},
   "outputs": [
    {
     "name": "stdout",
     "output_type": "stream",
     "text": [
      "6\n",
      "8 4\n",
      "reward:  1780000\n",
      "13 19\n",
      "reward:  620000\n",
      "8 10\n",
      "reward:  1140000\n",
      "18 18\n",
      "reward:  420000\n",
      "8 25\n",
      "reward:  820000\n",
      "13 16\n",
      "reward:  620000\n"
     ]
    }
   ],
   "source": [
    "T = int(input())\n",
    "\n",
    "for i in range(T):\n",
    "    a, b = map(int,input().split())\n",
    "    reward = awards_2017(a) + awards_2018(b)\n",
    "    print(\"reward: \", reward)\n"
   ]
  },
  {
   "cell_type": "code",
   "execution_count": null,
   "metadata": {},
   "outputs": [],
   "source": []
  }
 ],
 "metadata": {
  "kernelspec": {
   "display_name": "Python 3",
   "language": "python",
   "name": "python3"
  },
  "language_info": {
   "codemirror_mode": {
    "name": "ipython",
    "version": 3
   },
   "file_extension": ".py",
   "mimetype": "text/x-python",
   "name": "python",
   "nbconvert_exporter": "python",
   "pygments_lexer": "ipython3",
   "version": "3.6.8"
  }
 },
 "nbformat": 4,
 "nbformat_minor": 2
}
